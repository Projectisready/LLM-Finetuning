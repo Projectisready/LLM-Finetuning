{
 "cells": [
  {
   "cell_type": "markdown",
   "metadata": {},
   "source": [
    "### This is practice code to implmenet LLM Finetuning\n",
    "### Date: 23:05:2025\n"
   ]
  },
  {
   "cell_type": "code",
   "execution_count": 8,
   "metadata": {},
   "outputs": [
    {
     "ename": "ModuleNotFoundError",
     "evalue": "No module named 'lamini'",
     "output_type": "error",
     "traceback": [
      "\u001b[1;31m---------------------------------------------------------------------------\u001b[0m",
      "\u001b[1;31mModuleNotFoundError\u001b[0m                       Traceback (most recent call last)",
      "Cell \u001b[1;32mIn[8], line 2\u001b[0m\n\u001b[0;32m      1\u001b[0m \u001b[38;5;28;01mimport\u001b[39;00m \u001b[38;5;21;01mos\u001b[39;00m\n\u001b[1;32m----> 2\u001b[0m \u001b[38;5;28;01mimport\u001b[39;00m \u001b[38;5;21;01mlamini\u001b[39;00m\n\u001b[0;32m      4\u001b[0m lamini\u001b[38;5;241m.\u001b[39mapi_url \u001b[38;5;241m=\u001b[39m os\u001b[38;5;241m.\u001b[39mgetenv(\u001b[38;5;124m\"\u001b[39m\u001b[38;5;124mPOWERML__PRODUCTION__URL\u001b[39m\u001b[38;5;124m\"\u001b[39m)\n\u001b[0;32m      5\u001b[0m lamini\u001b[38;5;241m.\u001b[39mapi_key \u001b[38;5;241m=\u001b[39m os\u001b[38;5;241m.\u001b[39mgetenv(\u001b[38;5;124m\"\u001b[39m\u001b[38;5;124mPOWERML__PRODUCTION__KEY\u001b[39m\u001b[38;5;124m\"\u001b[39m)\n",
      "\u001b[1;31mModuleNotFoundError\u001b[0m: No module named 'lamini'"
     ]
    }
   ],
   "source": [
    "import os\n",
    "import lamini\n",
    "\n",
    "lamini.api_url = os.getenv(\"POWERML__PRODUCTION__URL\")\n",
    "lamini.api_key = os.getenv(\"POWERML__PRODUCTION__KEY\")"
   ]
  },
  {
   "cell_type": "code",
   "execution_count": 2,
   "metadata": {},
   "outputs": [
    {
     "ename": "ModuleNotFoundError",
     "evalue": "No module named 'lamini'",
     "output_type": "error",
     "traceback": [
      "\u001b[1;31m---------------------------------------------------------------------------\u001b[0m",
      "\u001b[1;31mModuleNotFoundError\u001b[0m                       Traceback (most recent call last)",
      "Cell \u001b[1;32mIn[2], line 1\u001b[0m\n\u001b[1;32m----> 1\u001b[0m \u001b[38;5;28;01mimport\u001b[39;00m \u001b[38;5;21;01mlamini\u001b[39;00m\n\u001b[0;32m      2\u001b[0m \u001b[38;5;28mprint\u001b[39m(\u001b[38;5;124mf\u001b[39m\u001b[38;5;124m\"\u001b[39m\u001b[38;5;124mLamini version: \u001b[39m\u001b[38;5;132;01m{\u001b[39;00mlamini\u001b[38;5;241m.\u001b[39m__version__\u001b[38;5;132;01m}\u001b[39;00m\u001b[38;5;124m\"\u001b[39m)\n",
      "\u001b[1;31mModuleNotFoundError\u001b[0m: No module named 'lamini'"
     ]
    }
   ],
   "source": [
    "import lamini\n",
    "print(f\"Lamini version: {lamini.__version__}\")\n",
    "\n"
   ]
  },
  {
   "cell_type": "code",
   "execution_count": 7,
   "metadata": {},
   "outputs": [
    {
     "name": "stdout",
     "output_type": "stream",
     "text": [
      "Collecting lamini\n",
      "  Using cached lamini-3.4.6-57-py3-none-any.whl.metadata (2.0 kB)\n",
      "Collecting lamini-configuration[yaml] (from lamini)\n",
      "  Using cached lamini_configuration-0.8.3-py3-none-any.whl.metadata (11 kB)\n",
      "Requirement already satisfied: requests in c:\\users\\user\\anaconda3\\lib\\site-packages (from lamini) (2.24.0)\n",
      "Requirement already satisfied: tqdm in c:\\users\\user\\anaconda3\\lib\\site-packages (from lamini) (4.66.1)\n",
      "Requirement already satisfied: numpy<2.0.0 in c:\\users\\user\\anaconda3\\lib\\site-packages (from lamini) (1.24.4)\n",
      "Requirement already satisfied: jsonlines in c:\\users\\user\\anaconda3\\lib\\site-packages (from lamini) (2.0.0)\n",
      "Requirement already satisfied: pandas in c:\\users\\user\\anaconda3\\lib\\site-packages (from lamini) (2.0.3)\n",
      "Collecting azure-storage-blob (from lamini)\n",
      "  Using cached azure_storage_blob-12.25.1-py3-none-any.whl.metadata (26 kB)\n",
      "Requirement already satisfied: scikit-learn in c:\\users\\user\\anaconda3\\lib\\site-packages (from lamini) (0.23.1)\n",
      "Requirement already satisfied: sqlglot in c:\\users\\user\\anaconda3\\lib\\site-packages (from lamini) (26.19.0)\n",
      "Requirement already satisfied: aiohttp in c:\\users\\user\\anaconda3\\lib\\site-packages (from lamini) (3.7.0)\n",
      "Collecting faiss-cpu (from lamini)\n",
      "  Using cached faiss_cpu-1.8.0.post1-cp38-cp38-win_amd64.whl.metadata (3.8 kB)\n",
      "Requirement already satisfied: openai in c:\\users\\user\\anaconda3\\lib\\site-packages (from lamini) (0.28.0)\n",
      "Requirement already satisfied: sqlalchemy in c:\\users\\user\\anaconda3\\lib\\site-packages (from lamini) (1.3.18)\n",
      "Requirement already satisfied: click in c:\\users\\user\\anaconda3\\lib\\site-packages (from lamini) (7.1.2)\n",
      "Collecting prettytable (from lamini)\n",
      "  Using cached prettytable-3.11.0-py3-none-any.whl.metadata (30 kB)\n",
      "Requirement already satisfied: fuzzywuzzy in c:\\users\\user\\anaconda3\\lib\\site-packages (from lamini) (0.18.0)\n",
      "Collecting python-Levenshtein (from lamini)\n",
      "  Using cached python_Levenshtein-0.25.1-py3-none-any.whl.metadata (3.7 kB)\n",
      "Requirement already satisfied: rapidfuzz in c:\\users\\user\\anaconda3\\lib\\site-packages (from lamini) (3.9.7)\n",
      "Requirement already satisfied: jaro-winkler in c:\\users\\user\\anaconda3\\lib\\site-packages (from lamini) (2.0.3)\n",
      "Requirement already satisfied: umap in c:\\users\\user\\anaconda3\\lib\\site-packages (from lamini) (0.1.1)\n",
      "Requirement already satisfied: torch in c:\\users\\user\\anaconda3\\lib\\site-packages (from lamini) (2.4.0)\n",
      "Collecting evaluate (from lamini)\n",
      "  Using cached evaluate-0.4.3-py3-none-any.whl.metadata (9.2 kB)\n",
      "Requirement already satisfied: attrs>=17.3.0 in c:\\users\\user\\anaconda3\\lib\\site-packages (from aiohttp->lamini) (19.3.0)\n",
      "Requirement already satisfied: chardet<4.0,>=2.0 in c:\\users\\user\\anaconda3\\lib\\site-packages (from aiohttp->lamini) (3.0.4)\n",
      "Requirement already satisfied: multidict<7.0,>=4.5 in c:\\users\\user\\anaconda3\\lib\\site-packages (from aiohttp->lamini) (5.2.0)\n",
      "Requirement already satisfied: async-timeout<4.0,>=3.0 in c:\\users\\user\\anaconda3\\lib\\site-packages (from aiohttp->lamini) (3.0.1)\n",
      "Requirement already satisfied: yarl<2.0,>=1.0 in c:\\users\\user\\anaconda3\\lib\\site-packages (from aiohttp->lamini) (1.7.2)\n",
      "Collecting azure-core>=1.30.0 (from azure-storage-blob->lamini)\n",
      "  Using cached azure_core-1.33.0-py3-none-any.whl.metadata (42 kB)\n",
      "Requirement already satisfied: cryptography>=2.1.4 in c:\\users\\user\\anaconda3\\lib\\site-packages (from azure-storage-blob->lamini) (42.0.5)\n",
      "Requirement already satisfied: typing-extensions>=4.6.0 in c:\\users\\user\\anaconda3\\lib\\site-packages (from azure-storage-blob->lamini) (4.12.2)\n",
      "Collecting isodate>=0.6.1 (from azure-storage-blob->lamini)\n",
      "  Using cached isodate-0.7.2-py3-none-any.whl.metadata (11 kB)\n",
      "Requirement already satisfied: datasets>=2.0.0 in c:\\users\\user\\anaconda3\\lib\\site-packages (from evaluate->lamini) (2.14.5)\n",
      "Requirement already satisfied: dill in c:\\users\\user\\anaconda3\\lib\\site-packages (from evaluate->lamini) (0.3.8)\n",
      "Requirement already satisfied: xxhash in c:\\users\\user\\anaconda3\\lib\\site-packages (from evaluate->lamini) (1.4.4)\n",
      "Requirement already satisfied: multiprocess in c:\\users\\user\\anaconda3\\lib\\site-packages (from evaluate->lamini) (0.70.12.2)\n",
      "Requirement already satisfied: fsspec>=2021.05.0 in c:\\users\\user\\anaconda3\\lib\\site-packages (from fsspec[http]>=2021.05.0->evaluate->lamini) (2023.6.0)\n",
      "Requirement already satisfied: huggingface-hub>=0.7.0 in c:\\users\\user\\anaconda3\\lib\\site-packages (from evaluate->lamini) (0.24.5)\n",
      "Requirement already satisfied: packaging in c:\\users\\user\\anaconda3\\lib\\site-packages (from evaluate->lamini) (23.1)\n",
      "Requirement already satisfied: idna<3,>=2.5 in c:\\users\\user\\anaconda3\\lib\\site-packages (from requests->lamini) (2.10)\n",
      "Requirement already satisfied: urllib3!=1.25.0,!=1.25.1,<1.26,>=1.21.1 in c:\\users\\user\\anaconda3\\lib\\site-packages (from requests->lamini) (1.25.11)\n",
      "Requirement already satisfied: certifi>=2017.4.17 in c:\\users\\user\\anaconda3\\lib\\site-packages (from requests->lamini) (2020.6.20)\n",
      "Requirement already satisfied: colorama in c:\\users\\user\\anaconda3\\lib\\site-packages (from tqdm->lamini) (0.4.3)\n",
      "Collecting pyyaml<7.0,>=6.0 (from lamini-configuration[yaml]->lamini)\n",
      "  Using cached PyYAML-6.0.2-cp38-cp38-win_amd64.whl.metadata (2.1 kB)\n",
      "Requirement already satisfied: python-dateutil>=2.8.2 in c:\\users\\user\\anaconda3\\lib\\site-packages (from pandas->lamini) (2.9.0)\n",
      "Requirement already satisfied: pytz>=2020.1 in c:\\users\\user\\anaconda3\\lib\\site-packages (from pandas->lamini) (2020.1)\n",
      "Requirement already satisfied: tzdata>=2022.1 in c:\\users\\user\\anaconda3\\lib\\site-packages (from pandas->lamini) (2024.1)\n",
      "Requirement already satisfied: wcwidth in c:\\users\\user\\anaconda3\\lib\\site-packages (from prettytable->lamini) (0.2.5)\n",
      "Collecting Levenshtein==0.25.1 (from python-Levenshtein->lamini)\n",
      "  Using cached Levenshtein-0.25.1-cp38-cp38-win_amd64.whl.metadata (3.4 kB)\n",
      "Requirement already satisfied: scipy>=0.19.1 in c:\\users\\user\\anaconda3\\lib\\site-packages (from scikit-learn->lamini) (1.5.0)\n",
      "Requirement already satisfied: joblib>=0.11 in c:\\users\\user\\anaconda3\\lib\\site-packages (from scikit-learn->lamini) (0.16.0)\n",
      "Requirement already satisfied: threadpoolctl>=2.0.0 in c:\\users\\user\\anaconda3\\lib\\site-packages (from scikit-learn->lamini) (2.1.0)\n",
      "Requirement already satisfied: filelock in c:\\users\\user\\anaconda3\\lib\\site-packages (from torch->lamini) (3.0.12)\n",
      "Requirement already satisfied: sympy in c:\\users\\user\\anaconda3\\lib\\site-packages (from torch->lamini) (1.6.1)\n",
      "Requirement already satisfied: networkx in c:\\users\\user\\anaconda3\\lib\\site-packages (from torch->lamini) (2.4)\n",
      "Requirement already satisfied: jinja2 in c:\\users\\user\\anaconda3\\lib\\site-packages (from torch->lamini) (2.11.2)\n",
      "Requirement already satisfied: six>=1.11.0 in c:\\users\\user\\anaconda3\\lib\\site-packages (from azure-core>=1.30.0->azure-storage-blob->lamini) (1.15.0)\n",
      "Requirement already satisfied: cffi>=1.12 in c:\\users\\user\\anaconda3\\lib\\site-packages (from cryptography>=2.1.4->azure-storage-blob->lamini) (1.14.0)\n",
      "Requirement already satisfied: pyarrow>=8.0.0 in c:\\users\\user\\anaconda3\\lib\\site-packages (from datasets>=2.0.0->evaluate->lamini) (17.0.0)\n",
      "Collecting dill (from evaluate->lamini)\n",
      "  Using cached dill-0.3.7-py3-none-any.whl.metadata (9.9 kB)\n",
      "Requirement already satisfied: MarkupSafe>=0.23 in c:\\users\\user\\anaconda3\\lib\\site-packages (from jinja2->torch->lamini) (1.1.1)\n",
      "Requirement already satisfied: decorator>=4.3.0 in c:\\users\\user\\anaconda3\\lib\\site-packages (from networkx->torch->lamini) (4.4.2)\n",
      "Requirement already satisfied: mpmath>=0.19 in c:\\users\\user\\anaconda3\\lib\\site-packages (from sympy->torch->lamini) (1.1.0)\n",
      "Requirement already satisfied: pycparser in c:\\users\\user\\anaconda3\\lib\\site-packages (from cffi>=1.12->cryptography>=2.1.4->azure-storage-blob->lamini) (2.20)\n",
      "Using cached lamini-3.4.6-57-py3-none-any.whl (901 kB)\n",
      "Using cached azure_storage_blob-12.25.1-py3-none-any.whl (406 kB)\n",
      "Using cached evaluate-0.4.3-py3-none-any.whl (84 kB)\n",
      "Using cached faiss_cpu-1.8.0.post1-cp38-cp38-win_amd64.whl (14.6 MB)\n",
      "Using cached prettytable-3.11.0-py3-none-any.whl (28 kB)\n",
      "Using cached python_Levenshtein-0.25.1-py3-none-any.whl (9.4 kB)\n",
      "Using cached Levenshtein-0.25.1-cp38-cp38-win_amd64.whl (98 kB)\n",
      "Using cached azure_core-1.33.0-py3-none-any.whl (207 kB)\n",
      "Using cached dill-0.3.7-py3-none-any.whl (115 kB)\n",
      "Using cached isodate-0.7.2-py3-none-any.whl (22 kB)\n",
      "Using cached PyYAML-6.0.2-cp38-cp38-win_amd64.whl (162 kB)\n",
      "Using cached lamini_configuration-0.8.3-py3-none-any.whl (22 kB)\n",
      "Installing collected packages: pyyaml, prettytable, Levenshtein, lamini-configuration, isodate, faiss-cpu, dill, python-Levenshtein, azure-core, azure-storage-blob, evaluate, lamini\n",
      "  Attempting uninstall: pyyaml\n",
      "    Found existing installation: PyYAML 5.3.1\n"
     ]
    },
    {
     "name": "stderr",
     "output_type": "stream",
     "text": [
      "WARNING: Ignoring invalid distribution -umpy (c:\\users\\user\\anaconda3\\lib\\site-packages)\n",
      "WARNING: Ignoring invalid distribution -yarrow (c:\\users\\user\\anaconda3\\lib\\site-packages)\n",
      "WARNING: Ignoring invalid distribution -umpy (c:\\users\\user\\anaconda3\\lib\\site-packages)\n",
      "WARNING: Ignoring invalid distribution -yarrow (c:\\users\\user\\anaconda3\\lib\\site-packages)\n",
      "\n",
      "[notice] A new release of pip is available: 24.2 -> 25.0.1\n",
      "[notice] To update, run: python.exe -m pip install --upgrade pip\n",
      "error: uninstall-distutils-installed-package\n",
      "\n",
      "Cannot uninstall PyYAML 5.3.1\n",
      "\n",
      "It is a distutils installed project and thus we cannot accurately determine which files belong to it which would lead to only a partial uninstall.\n"
     ]
    }
   ],
   "source": [
    "#import lamini\n",
    "#print(f\"Lamini version: {lamini.__version__}\")\n",
    "\n",
    "!pip install lamini"
   ]
  },
  {
   "cell_type": "code",
   "execution_count": 2,
   "metadata": {},
   "outputs": [
    {
     "ename": "ModuleNotFoundError",
     "evalue": "No module named 'config'",
     "output_type": "error",
     "traceback": [
      "\u001b[1;31m---------------------------------------------------------------------------\u001b[0m",
      "\u001b[1;31mModuleNotFoundError\u001b[0m                       Traceback (most recent call last)",
      "Cell \u001b[1;32mIn[2], line 5\u001b[0m\n\u001b[0;32m      3\u001b[0m \u001b[38;5;28;01mimport\u001b[39;00m \u001b[38;5;21;01mlogging\u001b[39;00m\n\u001b[0;32m      4\u001b[0m \u001b[38;5;28;01mimport\u001b[39;00m \u001b[38;5;21;01mrandom\u001b[39;00m\n\u001b[1;32m----> 5\u001b[0m \u001b[38;5;28;01mimport\u001b[39;00m \u001b[38;5;21;01mconfig\u001b[39;00m\n\u001b[0;32m      6\u001b[0m \u001b[38;5;28;01mimport\u001b[39;00m \u001b[38;5;21;01mos\u001b[39;00m\n\u001b[0;32m      7\u001b[0m \u001b[38;5;28;01mimport\u001b[39;00m \u001b[38;5;21;01myaml\u001b[39;00m\n",
      "\u001b[1;31mModuleNotFoundError\u001b[0m: No module named 'config'"
     ]
    }
   ],
   "source": [
    "import datasets\n",
    "import tempfile\n",
    "import logging\n",
    "import random\n",
    "import config\n",
    "import os\n",
    "import yaml\n",
    "import time\n",
    "import torch\n",
    "import transformers\n",
    "import pandas as pd\n",
    "import jsonlines\n",
    "\n",
    "from utilities import *\n",
    "from transformers import AutoTokenizer\n",
    "from transformers import AutoModelForCausalLM\n",
    "from transformers import TrainingArguments\n",
    "from transformers import AutoModelForCausalLM\n",
    "from llama import BasicModelRunner\n",
    "\n",
    "\n",
    "logger = logging.getLogger(__name__)\n",
    "global_config = None"
   ]
  },
  {
   "cell_type": "code",
   "execution_count": null,
   "metadata": {},
   "outputs": [],
   "source": []
  }
 ],
 "metadata": {
  "kernelspec": {
   "display_name": "Python (env_torch_py310)",
   "language": "python",
   "name": "env_torch_py310"
  },
  "language_info": {
   "codemirror_mode": {
    "name": "ipython",
    "version": 3
   },
   "file_extension": ".py",
   "mimetype": "text/x-python",
   "name": "python",
   "nbconvert_exporter": "python",
   "pygments_lexer": "ipython3",
   "version": "3.10.14"
  }
 },
 "nbformat": 4,
 "nbformat_minor": 4
}
