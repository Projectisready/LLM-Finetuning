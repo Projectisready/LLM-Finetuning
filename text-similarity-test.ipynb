{
 "cells": [
  {
   "cell_type": "markdown",
   "id": "0a63c780",
   "metadata": {},
   "source": [
    "### In this notebook, I will work on text similarity test, or in other words, how to compare two text \n",
    "### check it they convey the same meaning, this part is of my learning  journey with LLM. I am studying \n",
    "### using deeplearningAI\n",
    "### Name: Hussein Al-bandawi\n",
    "### Date: 31 July. 2025"
   ]
  },
  {
   "cell_type": "code",
   "execution_count": 1,
   "id": "1332fa71",
   "metadata": {},
   "outputs": [
    {
     "name": "stderr",
     "output_type": "stream",
     "text": [
      "C:\\Users\\user\\anaconda3\\envs\\st_env\\lib\\site-packages\\tqdm\\auto.py:21: TqdmWarning: IProgress not found. Please update jupyter and ipywidgets. See https://ipywidgets.readthedocs.io/en/stable/user_install.html\n",
      "  from .autonotebook import tqdm as notebook_tqdm\n"
     ]
    },
    {
     "name": "stdout",
     "output_type": "stream",
     "text": [
      "Done\n"
     ]
    }
   ],
   "source": [
    "# loading the sentence transformers library:\n",
    "#!pip install sentence-transformers \n",
    "# uncomment the above line  if you do not have the library downloaded\n",
    "\n",
    "from sentence_transformers import SentenceTransformer\n",
    "print('Done')\n",
    "\n",
    "# use the lin\n",
    "\n"
   ]
  },
  {
   "cell_type": "code",
   "execution_count": 2,
   "id": "02543df4-5076-4bd7-b479-5dee0f7e65e3",
   "metadata": {},
   "outputs": [],
   "source": [
    "# lading the transform model from huggingface, it is an open source model for  tasks like clustering or semantic search\n",
    "#https://huggingface.co/sentence-transformers/all-MiniLM-L6-v2\n",
    "model = SentenceTransformer(\"all-MiniLM-L6-v2\")\n",
    "\n"
   ]
  },
  {
   "cell_type": "markdown",
   "id": "675fdc86-3f41-42fa-b378-b4efe1b3933d",
   "metadata": {},
   "source": [
    "###  In this task, we will conduct text similarity test, \n",
    "### First convert the sentence into vector called embedding using the encoder\n",
    "### Then use cosin similarty test.\n",
    "* Cosine similarity is a measure that calculates how similar two vectors are by measuring the cosine of the angle between them. It's commonly used in text analysis, recommendation systems, and clustering to determine similarity in high-dimensional spaces.\n",
    "* I will not go deep in mathematically explanation, however, I will give a brief explantion for it:\n",
    "* Interpretation:\n",
    "* 1 → Vectors point in exactly the same direction (maximum similarity)\n",
    "\n",
    "* 0 → Vectors are orthogonal (no similarity)\n",
    "\n",
    "* -1 → Vectors point in exactly opposite directions"
   ]
  },
  {
   "cell_type": "code",
   "execution_count": 3,
   "id": "09abd72a-5891-480b-a103-c47948e9b36f",
   "metadata": {},
   "outputs": [],
   "source": [
    "# Define the sentence\n",
    "sentences1 = ['The cat sits outside',\n",
    "              'A man is playing guitar',\n",
    "              'The movies are awesome']"
   ]
  },
  {
   "cell_type": "code",
   "execution_count": 4,
   "id": "43e8fbd1-bea4-4865-9810-352a9a0c3631",
   "metadata": {},
   "outputs": [
    {
     "name": "stderr",
     "output_type": "stream",
     "text": [
      "C:\\Users\\user\\anaconda3\\envs\\st_env\\lib\\site-packages\\torch\\nn\\modules\\module.py:1762: FutureWarning: `encoder_attention_mask` is deprecated and will be removed in version 4.55.0 for `BertSdpaSelfAttention.forward`.\n",
      "  return forward_call(*args, **kwargs)\n"
     ]
    }
   ],
   "source": [
    "# Encode the sentence\n",
    "embeddings1 = model.encode(sentences1, convert_to_tensor=True)"
   ]
  },
  {
   "cell_type": "code",
   "execution_count": 5,
   "id": "7b04bc46-2ffc-4212-90b1-3ef4b87c62d6",
   "metadata": {},
   "outputs": [],
   "source": [
    "sentences2 = ['The dog plays in the garden',\n",
    "              'A woman watches TV',\n",
    "              'The new movie is so great']"
   ]
  },
  {
   "cell_type": "code",
   "execution_count": 6,
   "id": "26aad662-93ad-48c5-bb70-98408c874d90",
   "metadata": {},
   "outputs": [
    {
     "name": "stdout",
     "output_type": "stream",
     "text": [
      "tensor([[ 0.0163, -0.0700,  0.0384,  ...,  0.0447,  0.0254, -0.0023],\n",
      "        [ 0.0054, -0.0920,  0.0140,  ...,  0.0167, -0.0086, -0.0424],\n",
      "        [-0.0842, -0.0592, -0.0010,  ..., -0.0157,  0.0764,  0.0389]])\n"
     ]
    }
   ],
   "source": [
    "embeddings2 = model.encode(sentences2, \n",
    "                           convert_to_tensor=True)\n",
    "print(embeddings2)"
   ]
  },
  {
   "cell_type": "markdown",
   "id": "1a2d4532-8913-4a54-ac46-a4342f66004d",
   "metadata": {},
   "source": [
    "* now cinducting the cosine similarity measure for two the two sentences to check the similarity between the two sentences."
   ]
  },
  {
   "cell_type": "code",
   "execution_count": 7,
   "id": "471988ce-609f-4677-af9c-85061a6b1164",
   "metadata": {},
   "outputs": [],
   "source": [
    "from sentence_transformers import util\n"
   ]
  },
  {
   "cell_type": "code",
   "execution_count": 8,
   "id": "1d6028e3-de24-44c1-8b27-fa0d2b80faaa",
   "metadata": {},
   "outputs": [
    {
     "name": "stdout",
     "output_type": "stream",
     "text": [
      "tensor([[ 1.0000,  0.0363, -0.0907],\n",
      "        [ 0.0363,  1.0000, -0.0369],\n",
      "        [-0.0907, -0.0369,  1.0000]])\n"
     ]
    }
   ],
   "source": [
    "cosine_scores = util.cos_sim(embeddings1,embeddings1)\n",
    "print(cosine_scores)"
   ]
  },
  {
   "cell_type": "code",
   "execution_count": 9,
   "id": "0694a59d-8943-4375-906d-713d84a11784",
   "metadata": {},
   "outputs": [
    {
     "name": "stdout",
     "output_type": "stream",
     "text": [
      "tensor([[ 0.2838,  0.1310, -0.0029],\n",
      "        [ 0.2277, -0.0327, -0.0136],\n",
      "        [-0.0124, -0.0465,  0.6571]])\n"
     ]
    }
   ],
   "source": [
    "cosine_scores = util.cos_sim(embeddings1,embeddings2)\n",
    "print(cosine_scores)"
   ]
  },
  {
   "cell_type": "code",
   "execution_count": 10,
   "id": "e63be87c-c414-4176-a4af-58cf3771c8e1",
   "metadata": {},
   "outputs": [
    {
     "name": "stdout",
     "output_type": "stream",
     "text": [
      "The cat sits outside \t\t The dog plays in the garden \t\t Score: 0.2838\n",
      "A man is playing guitar \t\t A woman watches TV \t\t Score: -0.0327\n",
      "The movies are awesome \t\t The new movie is so great \t\t Score: 0.6571\n"
     ]
    }
   ],
   "source": [
    "for i in range(len(sentences1)):\n",
    "    print(\"{} \\t\\t {} \\t\\t Score: {:.4f}\".format(sentences1[i],\n",
    "                                                 sentences2[i],\n",
    "                                                 cosine_scores[i][i]))"
   ]
  },
  {
   "cell_type": "code",
   "execution_count": 20,
   "id": "e428bdd3",
   "metadata": {},
   "outputs": [
    {
     "name": "stderr",
     "output_type": "stream",
     "text": [
      "To https://github.com/Projectisready/LLM-Finetuning.git\n",
      " ! [rejected]        main -> main (fetch first)\n",
      "error: failed to push some refs to 'https://github.com/Projectisready/LLM-Finetuning.git'\n",
      "hint: Updates were rejected because the remote contains work that you do not\n",
      "hint: have locally. This is usually caused by another repository pushing to\n",
      "hint: the same ref. If you want to integrate the remote changes, use\n",
      "hint: 'git pull' before pushing again.\n",
      "hint: See the 'Note about fast-forwards' in 'git push --help' for details.\n"
     ]
    }
   ],
   "source": [
    "!git push"
   ]
  },
  {
   "cell_type": "code",
   "execution_count": 16,
   "id": "e4312bbb",
   "metadata": {},
   "outputs": [
    {
     "name": "stderr",
     "output_type": "stream",
     "text": [
      "error: remote origin already exists.\n",
      "To https://github.com/Projectisready/LLM-Finetuning.git\n",
      " ! [rejected]        main -> main (fetch first)\n",
      "error: failed to push some refs to 'https://github.com/Projectisready/LLM-Finetuning.git'\n",
      "hint: Updates were rejected because the remote contains work that you do not\n",
      "hint: have locally. This is usually caused by another repository pushing to\n",
      "hint: the same ref. If you want to integrate the remote changes, use\n",
      "hint: 'git pull' before pushing again.\n",
      "hint: See the 'Note about fast-forwards' in 'git push --help' for details.\n"
     ]
    }
   ],
   "source": [
    "#https://github.com/Projectisready/LLM-Finetuning.git\n",
    "!git remote add origin github.com/Projectisready/LLM-Finetuning.git\n",
    "!git branch -M main\n",
    "!git push -u origin main"
   ]
  },
  {
   "cell_type": "code",
   "execution_count": 17,
   "id": "bfef578f",
   "metadata": {},
   "outputs": [
    {
     "name": "stderr",
     "output_type": "stream",
     "text": [
      "warning: in the working copy of 'text-similarity-test.ipynb', LF will be replaced by CRLF the next time Git touches it\n"
     ]
    }
   ],
   "source": [
    "!git add ."
   ]
  },
  {
   "cell_type": "code",
   "execution_count": 18,
   "id": "fb2a0b64",
   "metadata": {},
   "outputs": [
    {
     "name": "stderr",
     "output_type": "stream",
     "text": [
      "To https://github.com/Projectisready/LLM-Finetuning.git\n",
      " ! [rejected]        main -> main (fetch first)\n",
      "error: failed to push some refs to 'https://github.com/Projectisready/LLM-Finetuning.git'\n",
      "hint: Updates were rejected because the remote contains work that you do not\n",
      "hint: have locally. This is usually caused by another repository pushing to\n",
      "hint: the same ref. If you want to integrate the remote changes, use\n",
      "hint: 'git pull' before pushing again.\n",
      "hint: See the 'Note about fast-forwards' in 'git push --help' for details.\n"
     ]
    }
   ],
   "source": [
    "!git branch -M main\n",
    "!git push -u origin main"
   ]
  },
  {
   "cell_type": "code",
   "execution_count": 19,
   "id": "abbab2c4",
   "metadata": {},
   "outputs": [
    {
     "name": "stdout",
     "output_type": "stream",
     "text": [
      "[main 267b67b] Add initial file\n",
      " 1 file changed, 140 insertions(+), 2 deletions(-)\n"
     ]
    }
   ],
   "source": [
    "!git commit -m \"Add initial file\""
   ]
  },
  {
   "cell_type": "markdown",
   "id": "30eda377",
   "metadata": {},
   "source": [
    "* Calculate the cosine similarity between two sentences as a measure of how similar they are to each other."
   ]
  },
  {
   "cell_type": "code",
   "execution_count": null,
   "id": "6b9eb370",
   "metadata": {},
   "outputs": [],
   "source": []
  },
  {
   "cell_type": "code",
   "execution_count": null,
   "id": "309b3228-da95-4b06-8f89-ae5b884ef941",
   "metadata": {},
   "outputs": [],
   "source": []
  }
 ],
 "metadata": {
  "kernelspec": {
   "display_name": "Python (st_env)",
   "language": "python",
   "name": "st_env"
  },
  "language_info": {
   "codemirror_mode": {
    "name": "ipython",
    "version": 3
   },
   "file_extension": ".py",
   "mimetype": "text/x-python",
   "name": "python",
   "nbconvert_exporter": "python",
   "pygments_lexer": "ipython3",
   "version": "3.10.18"
  }
 },
 "nbformat": 4,
 "nbformat_minor": 5
}
