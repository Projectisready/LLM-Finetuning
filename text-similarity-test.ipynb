{
 "cells": [
  {
   "cell_type": "markdown",
   "metadata": {},
   "source": [
    "### In this notebook, I will work on text similarity test, or in other words, how to compare two text  and  check whether if they convey the same meaning, this part is of my learning  journey with LLM. I am studying  using deeplearningAI platform\n",
    "### Name: Hussein Al-bandawi\n",
    "### Date: 31 July. 2025"
   ]
  },
  {
   "cell_type": "code",
   "execution_count": 1,
   "metadata": {},
   "outputs": [
    {
     "name": "stderr",
     "output_type": "stream",
     "text": [
      "C:\\Users\\user\\anaconda3\\envs\\st_env\\lib\\site-packages\\tqdm\\auto.py:21: TqdmWarning: IProgress not found. Please update jupyter and ipywidgets. See https://ipywidgets.readthedocs.io/en/stable/user_install.html\n",
      "  from .autonotebook import tqdm as notebook_tqdm\n"
     ]
    },
    {
     "name": "stdout",
     "output_type": "stream",
     "text": [
      "Done\n"
     ]
    }
   ],
   "source": [
    "# loading the sentence transformers library:\n",
    "#!pip install sentence-transformers \n",
    "# uncomment the above line  if you do not have the library downloaded\n",
    "\n",
    "from sentence_transformers import SentenceTransformer\n",
    "print('Done')\n",
    "\n",
    "# use the line below to supress the waringings messages (optional)\n",
    "from transformers.utils import logging\n",
    "logging.set_verbosity_error()\n",
    "\n"
   ]
  },
  {
   "cell_type": "code",
   "execution_count": 2,
   "metadata": {},
   "outputs": [],
   "source": [
    "# lading the transform model from huggingface, it is an open source model for  tasks like clustering or semantic search\n",
    "#https://huggingface.co/sentence-transformers/all-MiniLM-L6-v2\n",
    "model = SentenceTransformer(\"all-MiniLM-L6-v2\")\n",
    "\n"
   ]
  },
  {
   "cell_type": "markdown",
   "metadata": {},
   "source": [
    "###  In this task, I will conduct text similarity test, \n",
    "### First convert the sentence into vector called embedding using the encoder\n",
    "### Then use cosine similarty test. So what is cosine similarity test?\n",
    "* Cosine similarity test is a measure that calculates how similar two vectors are by measuring the cosine of the angle between them. It's commonly used in text analysis, recommendation systems, and clustering to determine similarity in high-dimensional spaces.\n",
    "* I will not go deep in mathematically explanation, however, I will give a brief explantion for it:\n",
    "* Interpretation:\n",
    "* 1 → Vectors point in exactly the same direction (maximum similarity)\n",
    "\n",
    "* 0 → Vectors are orthogonal (no similarity)\n",
    "\n",
    "* -1 → Vectors point in exactly opposite directions"
   ]
  },
  {
   "cell_type": "code",
   "execution_count": 3,
   "metadata": {},
   "outputs": [],
   "source": [
    "# Define the sentence\n",
    "sentences1 = ['The cat sits outside',\n",
    "              'A man is playing guitar',\n",
    "              'The movies are awesome']"
   ]
  },
  {
   "cell_type": "code",
   "execution_count": 4,
   "metadata": {},
   "outputs": [
    {
     "name": "stderr",
     "output_type": "stream",
     "text": [
      "C:\\Users\\user\\anaconda3\\envs\\st_env\\lib\\site-packages\\torch\\nn\\modules\\module.py:1762: FutureWarning: `encoder_attention_mask` is deprecated and will be removed in version 4.55.0 for `BertSdpaSelfAttention.forward`.\n",
      "  return forward_call(*args, **kwargs)\n"
     ]
    }
   ],
   "source": [
    "# Encode the sentence\n",
    "embeddings1 = model.encode(sentences1, convert_to_tensor=True)"
   ]
  },
  {
   "cell_type": "code",
   "execution_count": 5,
   "metadata": {},
   "outputs": [],
   "source": [
    "sentences2 = ['The dog plays in the garden',\n",
    "              'A woman watches TV',\n",
    "              'The new movie is so great']"
   ]
  },
  {
   "cell_type": "code",
   "execution_count": 6,
   "metadata": {},
   "outputs": [
    {
     "name": "stdout",
     "output_type": "stream",
     "text": [
      "tensor([[ 0.0163, -0.0700,  0.0384,  ...,  0.0447,  0.0254, -0.0023],\n",
      "        [ 0.0054, -0.0920,  0.0140,  ...,  0.0167, -0.0086, -0.0424],\n",
      "        [-0.0842, -0.0592, -0.0010,  ..., -0.0157,  0.0764,  0.0389]])\n"
     ]
    }
   ],
   "source": [
    "embeddings2 = model.encode(sentences2, \n",
    "                           convert_to_tensor=True)\n",
    "print(embeddings2)"
   ]
  },
  {
   "cell_type": "markdown",
   "metadata": {},
   "source": [
    "* Now conducting the cosine similarity measure for two the two sentences to check the similarity between the two sentences."
   ]
  },
  {
   "cell_type": "code",
   "execution_count": 7,
   "metadata": {},
   "outputs": [],
   "source": [
    "from sentence_transformers import util\n"
   ]
  },
  {
   "cell_type": "code",
   "execution_count": 8,
   "metadata": {},
   "outputs": [
    {
     "name": "stdout",
     "output_type": "stream",
     "text": [
      "tensor([[ 1.0000,  0.0363, -0.0907],\n",
      "        [ 0.0363,  1.0000, -0.0369],\n",
      "        [-0.0907, -0.0369,  1.0000]])\n",
      " It can be seen from the results which is a pairwise comparison, that the diagonal elements of the output is 1's, which indicates that each sentence is exactly the same (this is True because I have compared the same sentence\n"
     ]
    }
   ],
   "source": [
    "cosine_scores = util.cos_sim(embeddings1,embeddings1)\n",
    "print(cosine_scores)\n",
    "print( \" It can be seen from the results which is a pairwise comparison, that the diagonal elements of the output is 1's, which indicates that each sentence is exactly the same (this is True because I have compared the same sentence\") "
   ]
  },
  {
   "cell_type": "code",
   "execution_count": 9,
   "metadata": {},
   "outputs": [
    {
     "name": "stdout",
     "output_type": "stream",
     "text": [
      "tensor([[ 0.2838,  0.1310, -0.0029],\n",
      "        [ 0.2277, -0.0327, -0.0136],\n",
      "        [-0.0124, -0.0465,  0.6571]])\n",
      " After comparing the two different vectors (sentences), it is clear that the measure is proportionate to how each sentence is close to each other\n"
     ]
    }
   ],
   "source": [
    "cosine_scores = util.cos_sim(embeddings1,embeddings2)\n",
    "print(cosine_scores)\n",
    "print( \" After comparing the two different vectors (sentences), it is clear that the measure is proportionate to how each sentence is close to each other\")"
   ]
  },
  {
   "cell_type": "code",
   "execution_count": 10,
   "metadata": {},
   "outputs": [
    {
     "name": "stdout",
     "output_type": "stream",
     "text": [
      "The cat sits outside \t\t The dog plays in the garden \t\t Score: 0.2838\n",
      "A man is playing guitar \t\t A woman watches TV \t\t Score: -0.0327\n",
      "The movies are awesome \t\t The new movie is so great \t\t Score: 0.6571\n"
     ]
    }
   ],
   "source": [
    "for i in range(len(sentences1)):\n",
    "    print(\"{} \\t\\t {} \\t\\t Score: {:.4f}\".format(sentences1[i],\n",
    "                                                 sentences2[i],\n",
    "                                                 cosine_scores[i][i]))"
   ]
  },
  {
   "cell_type": "code",
   "execution_count": 11,
   "metadata": {},
   "outputs": [
    {
     "name": "stderr",
     "output_type": "stream",
     "text": [
      "warning: in the working copy of 'text-similarity-test.ipynb', LF will be replaced by CRLF the next time Git touches it\n"
     ]
    },
    {
     "name": "stdout",
     "output_type": "stream",
     "text": [
      "[main 2add138] my udated code with explanation\n",
      " 1 file changed, 4 insertions(+), 27 deletions(-)\n"
     ]
    },
    {
     "name": "stderr",
     "output_type": "stream",
     "text": [
      "To https://github.com/Projectisready/LLM-Finetuning.git\n",
      "   75c9b16..2add138  main -> main\n"
     ]
    }
   ],
   "source": [
    "\n",
    "# These line is to update my project at the githube\n",
    "!git add .\n",
    "!git commit -m \"my udated code with explanation\"\n",
    "!git push origin main --force"
   ]
  },
  {
   "cell_type": "code",
   "execution_count": null,
   "metadata": {},
   "outputs": [],
   "source": []
  },
  {
   "cell_type": "code",
   "execution_count": null,
   "metadata": {},
   "outputs": [],
   "source": []
  },
  {
   "cell_type": "code",
   "execution_count": null,
   "metadata": {},
   "outputs": [],
   "source": []
  },
  {
   "cell_type": "code",
   "execution_count": 12,
   "metadata": {},
   "outputs": [
    {
     "name": "stdout",
     "output_type": "stream",
     "text": [
      "On branch main\n",
      "Your branch is up to date with 'origin/main'.\n",
      "\n",
      "nothing to commit, working tree clean\n"
     ]
    },
    {
     "name": "stderr",
     "output_type": "stream",
     "text": [
      "Everything up-to-date\n"
     ]
    }
   ],
   "source": [
    "!git commit \n",
    "!git push"
   ]
  },
  {
   "cell_type": "markdown",
   "metadata": {},
   "source": []
  },
  {
   "cell_type": "code",
   "execution_count": null,
   "metadata": {},
   "outputs": [],
   "source": []
  },
  {
   "cell_type": "code",
   "execution_count": null,
   "metadata": {},
   "outputs": [],
   "source": []
  }
 ],
 "metadata": {
  "kernelspec": {
   "display_name": "Python (st_env)",
   "language": "python",
   "name": "st_env"
  },
  "language_info": {
   "codemirror_mode": {
    "name": "ipython",
    "version": 3
   },
   "file_extension": ".py",
   "mimetype": "text/x-python",
   "name": "python",
   "nbconvert_exporter": "python",
   "pygments_lexer": "ipython3",
   "version": "3.10.18"
  }
 },
 "nbformat": 4,
 "nbformat_minor": 5
}
